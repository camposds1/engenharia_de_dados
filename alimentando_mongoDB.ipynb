{
  "nbformat": 4,
  "nbformat_minor": 0,
  "metadata": {
    "colab": {
      "provenance": [],
      "collapsed_sections": [
        "qqife4aGmhsd",
        "4MZqmq8wmvjD",
        "WBjYzOAsnV6D"
      ],
      "authorship_tag": "ABX9TyPFt4Q3N8KB/S/JqX/lAp/Q"
    },
    "kernelspec": {
      "name": "python3",
      "display_name": "Python 3"
    },
    "language_info": {
      "name": "python"
    }
  },
  "cells": [
    {
      "cell_type": "markdown",
      "source": [
        "A ideia foi importar 3 arquivos CSV de uma bucket da GCP, convertê-los em dicionário e enviá-los para uma coleção no mongoDB.\n",
        "Alterei os nomes dos caminhos dos arquivos por questões de privacidade."
      ],
      "metadata": {
        "id": "6WqK5cNG1QzE"
      }
    },
    {
      "cell_type": "markdown",
      "source": [
        "# Instalando e importando as bibliotecas necessárias"
      ],
      "metadata": {
        "id": "qqife4aGmhsd"
      }
    },
    {
      "cell_type": "code",
      "execution_count": null,
      "metadata": {
        "colab": {
          "base_uri": "https://localhost:8080/"
        },
        "id": "S5gtLeUAjsmN",
        "outputId": "dfd8197e-0ee4-4abe-9ec3-eaa2ae13b609"
      },
      "outputs": [
        {
          "output_type": "stream",
          "name": "stdout",
          "text": [
            "Looking in indexes: https://pypi.org/simple, https://us-python.pkg.dev/colab-wheels/public/simple/\n",
            "Collecting gcsfs\n",
            "  Downloading gcsfs-2022.11.0-py2.py3-none-any.whl (26 kB)\n",
            "Requirement already satisfied: google-auth>=1.2 in /usr/local/lib/python3.8/dist-packages (from gcsfs) (2.15.0)\n",
            "Requirement already satisfied: aiohttp!=4.0.0a0,!=4.0.0a1 in /usr/local/lib/python3.8/dist-packages (from gcsfs) (3.8.3)\n",
            "Requirement already satisfied: decorator>4.1.2 in /usr/local/lib/python3.8/dist-packages (from gcsfs) (4.4.2)\n",
            "Requirement already satisfied: requests in /usr/local/lib/python3.8/dist-packages (from gcsfs) (2.23.0)\n",
            "Requirement already satisfied: google-auth-oauthlib in /usr/local/lib/python3.8/dist-packages (from gcsfs) (0.4.6)\n",
            "Requirement already satisfied: google-cloud-storage in /usr/local/lib/python3.8/dist-packages (from gcsfs) (2.5.0)\n",
            "Requirement already satisfied: fsspec==2022.11.0 in /usr/local/lib/python3.8/dist-packages (from gcsfs) (2022.11.0)\n",
            "Requirement already satisfied: async-timeout<5.0,>=4.0.0a3 in /usr/local/lib/python3.8/dist-packages (from aiohttp!=4.0.0a0,!=4.0.0a1->gcsfs) (4.0.2)\n",
            "Requirement already satisfied: multidict<7.0,>=4.5 in /usr/local/lib/python3.8/dist-packages (from aiohttp!=4.0.0a0,!=4.0.0a1->gcsfs) (6.0.3)\n",
            "Requirement already satisfied: frozenlist>=1.1.1 in /usr/local/lib/python3.8/dist-packages (from aiohttp!=4.0.0a0,!=4.0.0a1->gcsfs) (1.3.3)\n",
            "Requirement already satisfied: yarl<2.0,>=1.0 in /usr/local/lib/python3.8/dist-packages (from aiohttp!=4.0.0a0,!=4.0.0a1->gcsfs) (1.8.2)\n",
            "Requirement already satisfied: charset-normalizer<3.0,>=2.0 in /usr/local/lib/python3.8/dist-packages (from aiohttp!=4.0.0a0,!=4.0.0a1->gcsfs) (2.1.1)\n",
            "Requirement already satisfied: aiosignal>=1.1.2 in /usr/local/lib/python3.8/dist-packages (from aiohttp!=4.0.0a0,!=4.0.0a1->gcsfs) (1.3.1)\n",
            "Requirement already satisfied: attrs>=17.3.0 in /usr/local/lib/python3.8/dist-packages (from aiohttp!=4.0.0a0,!=4.0.0a1->gcsfs) (22.1.0)\n",
            "Requirement already satisfied: rsa<5,>=3.1.4 in /usr/local/lib/python3.8/dist-packages (from google-auth>=1.2->gcsfs) (4.9)\n",
            "Requirement already satisfied: six>=1.9.0 in /usr/local/lib/python3.8/dist-packages (from google-auth>=1.2->gcsfs) (1.15.0)\n",
            "Requirement already satisfied: cachetools<6.0,>=2.0.0 in /usr/local/lib/python3.8/dist-packages (from google-auth>=1.2->gcsfs) (5.2.0)\n",
            "Requirement already satisfied: pyasn1-modules>=0.2.1 in /usr/local/lib/python3.8/dist-packages (from google-auth>=1.2->gcsfs) (0.2.8)\n",
            "Requirement already satisfied: pyasn1<0.5.0,>=0.4.6 in /usr/local/lib/python3.8/dist-packages (from pyasn1-modules>=0.2.1->google-auth>=1.2->gcsfs) (0.4.8)\n",
            "Requirement already satisfied: idna>=2.0 in /usr/local/lib/python3.8/dist-packages (from yarl<2.0,>=1.0->aiohttp!=4.0.0a0,!=4.0.0a1->gcsfs) (2.10)\n",
            "Requirement already satisfied: requests-oauthlib>=0.7.0 in /usr/local/lib/python3.8/dist-packages (from google-auth-oauthlib->gcsfs) (1.3.1)\n",
            "Requirement already satisfied: oauthlib>=3.0.0 in /usr/local/lib/python3.8/dist-packages (from requests-oauthlib>=0.7.0->google-auth-oauthlib->gcsfs) (3.2.2)\n",
            "Requirement already satisfied: certifi>=2017.4.17 in /usr/local/lib/python3.8/dist-packages (from requests->gcsfs) (2022.12.7)\n",
            "Requirement already satisfied: chardet<4,>=3.0.2 in /usr/local/lib/python3.8/dist-packages (from requests->gcsfs) (3.0.4)\n",
            "Requirement already satisfied: urllib3!=1.25.0,!=1.25.1,<1.26,>=1.21.1 in /usr/local/lib/python3.8/dist-packages (from requests->gcsfs) (1.24.3)\n",
            "Requirement already satisfied: google-api-core!=2.0.*,!=2.1.*,!=2.2.*,!=2.3.0,<3.0.0dev,>=1.31.5 in /usr/local/lib/python3.8/dist-packages (from google-cloud-storage->gcsfs) (2.8.2)\n",
            "Requirement already satisfied: google-cloud-core<3.0dev,>=2.3.0 in /usr/local/lib/python3.8/dist-packages (from google-cloud-storage->gcsfs) (2.3.2)\n",
            "Requirement already satisfied: google-resumable-media>=2.3.2 in /usr/local/lib/python3.8/dist-packages (from google-cloud-storage->gcsfs) (2.4.0)\n",
            "Requirement already satisfied: protobuf<5.0.0dev,>=3.15.0 in /usr/local/lib/python3.8/dist-packages (from google-api-core!=2.0.*,!=2.1.*,!=2.2.*,!=2.3.0,<3.0.0dev,>=1.31.5->google-cloud-storage->gcsfs) (3.19.6)\n",
            "Requirement already satisfied: googleapis-common-protos<2.0dev,>=1.56.2 in /usr/local/lib/python3.8/dist-packages (from google-api-core!=2.0.*,!=2.1.*,!=2.2.*,!=2.3.0,<3.0.0dev,>=1.31.5->google-cloud-storage->gcsfs) (1.57.0)\n",
            "Requirement already satisfied: google-crc32c<2.0dev,>=1.0 in /usr/local/lib/python3.8/dist-packages (from google-resumable-media>=2.3.2->google-cloud-storage->gcsfs) (1.5.0)\n",
            "Installing collected packages: gcsfs\n",
            "Successfully installed gcsfs-2022.11.0\n"
          ]
        }
      ],
      "source": [
        "!pip install gcsfs"
      ]
    },
    {
      "cell_type": "code",
      "source": [
        "from google.cloud import storage\n",
        "import os\n",
        "import pandas as pd\n",
        "import pymongo\n",
        "from pymongo import MongoClient"
      ],
      "metadata": {
        "id": "dvzreMOYmJ-k"
      },
      "execution_count": null,
      "outputs": []
    },
    {
      "cell_type": "markdown",
      "source": [
        "# Lendo as bases de dados originais na Bucket"
      ],
      "metadata": {
        "id": "4MZqmq8wmvjD"
      }
    },
    {
      "cell_type": "code",
      "source": [
        "#KEY do Service Account da GCP\n",
        "serviceAccount = '/caminho_do_arquivo_do_certificado.json'\n",
        "os.environ['GOOGLE_APPLICATION_CREDENTIALS'] = serviceAccount"
      ],
      "metadata": {
        "id": "jozgBzjmmlq1"
      },
      "execution_count": null,
      "outputs": []
    },
    {
      "cell_type": "code",
      "source": [
        "#Configurações Google Cloud Storage\n",
        "client = storage.Client()\n",
        "bucket = client.get_bucket('nome da bucket na GCP')\n",
        "bucket.blob('D.SDA.PDA.005.CAT.202201.csv')\n",
        "path = 'gs://caminho_do_arquivo_na_gcp/D.SDA.PDA.005.CAT.202201.csv'"
      ],
      "metadata": {
        "id": "HperscRVm1db"
      },
      "execution_count": null,
      "outputs": []
    },
    {
      "cell_type": "code",
      "source": [
        "# Lendo o arquivo CSV a partir da bucket\n",
        "df1 = pd.read_csv('gs://caminho_do_arquivo_na_gcp/D.SDA.PDA.005.CAT.202201.csv', sep = ';', encoding = 'ISO-8859-1')"
      ],
      "metadata": {
        "id": "ZiVerkGBm9Yp"
      },
      "execution_count": null,
      "outputs": []
    },
    {
      "cell_type": "code",
      "source": [
        "client = storage.Client()\n",
        "bucket = client.get_bucket('nome da bucket na GCP')\n",
        "bucket.blob('D.SDA.PDA.005.CAT.202204.csv')\n",
        "path = 'gs://caminho_do_arquivo_na_gcp/D.SDA.PDA.005.CAT.202204.csv'"
      ],
      "metadata": {
        "id": "no5pYs4xnCUs"
      },
      "execution_count": null,
      "outputs": []
    },
    {
      "cell_type": "code",
      "source": [
        "df2 = pd.read_csv('gs://caminho_do_arquivo_na_gcp/D.SDA.PDA.005.CAT.202204.csv', sep = ';', encoding = 'ISO-8859-1')"
      ],
      "metadata": {
        "id": "IrGHT1idnHLp"
      },
      "execution_count": null,
      "outputs": []
    },
    {
      "cell_type": "code",
      "source": [
        "client = storage.Client()\n",
        "bucket = client.get_bucket('nome da bucket na GCP')\n",
        "bucket.blob('D.SDA.PDA.005.CAT.202210.csv')\n",
        "path = 'gs://caminho_do_arquivo_na_gcp/D.SDA.PDA.005.CAT.202210.csv'"
      ],
      "metadata": {
        "id": "lpxSoHIlnKib"
      },
      "execution_count": null,
      "outputs": []
    },
    {
      "cell_type": "code",
      "source": [
        "df3 = pd.read_csv('gs://caminho_do_arquivo_na_gcp/D.SDA.PDA.005.CAT.202210.csv', sep = ';', encoding = 'ISO-8859-1')"
      ],
      "metadata": {
        "id": "VbPJAFW4nNTx"
      },
      "execution_count": null,
      "outputs": []
    },
    {
      "cell_type": "markdown",
      "source": [
        "# Enviado as bases de dados originais para o MongoDB"
      ],
      "metadata": {
        "id": "WBjYzOAsnV6D"
      }
    },
    {
      "cell_type": "code",
      "source": [
        "# Conector do Mongo Atlas\n",
        "uri = \"mongodb+srv://caminho_do_conector_mongoDB\"\n",
        "client = MongoClient(uri,\n",
        "                     tls=True,\n",
        "                     tlsCertificateKeyFile='/caminho_do_arquivo_do_cerificado.pem')"
      ],
      "metadata": {
        "id": "5udFMRiSncS4"
      },
      "execution_count": null,
      "outputs": []
    },
    {
      "cell_type": "code",
      "source": [
        "# Conectando ao database e à coleção de arquivos originais e verificando a quantidade de documentos na coleção\n",
        "db = client['nome_database']\n",
        "collection = db['nome_colecao']\n",
        "doc_count = collection.count_documents({})\n",
        "print(doc_count)"
      ],
      "metadata": {
        "colab": {
          "base_uri": "https://localhost:8080/"
        },
        "id": "BeT6Y36XoFFe",
        "outputId": "89bef297-f9d7-4bc6-cb08-796190f30823"
      },
      "execution_count": null,
      "outputs": [
        {
          "output_type": "stream",
          "name": "stdout",
          "text": [
            "0\n"
          ]
        }
      ]
    },
    {
      "cell_type": "markdown",
      "source": [
        "Como os dfs 1 e 2 são muito grandes, há a necessidade de dividí-los para que seja possível realizar a importação para o mongoDB"
      ],
      "metadata": {
        "id": "bDEMG26vreL2"
      }
    },
    {
      "cell_type": "code",
      "source": [
        "# Lendo a quantidade de linhas do df1\n",
        "len(df1.axes[0])"
      ],
      "metadata": {
        "colab": {
          "base_uri": "https://localhost:8080/"
        },
        "id": "KdkPsCMsrZQh",
        "outputId": "b403dc90-aca0-4d03-9476-005bdb894807"
      },
      "execution_count": null,
      "outputs": [
        {
          "output_type": "execute_result",
          "data": {
            "text/plain": [
              "152140"
            ]
          },
          "metadata": {},
          "execution_count": 46
        }
      ]
    },
    {
      "cell_type": "code",
      "source": [
        "# Lendo a quantidade de linhas do df2\n",
        "len(df2.axes[0])"
      ],
      "metadata": {
        "colab": {
          "base_uri": "https://localhost:8080/"
        },
        "id": "jrn1Zr-Vs9sM",
        "outputId": "c19b13f7-9123-475f-9100-ef938f25c2a6"
      },
      "execution_count": null,
      "outputs": [
        {
          "output_type": "execute_result",
          "data": {
            "text/plain": [
              "89602"
            ]
          },
          "metadata": {},
          "execution_count": 47
        }
      ]
    },
    {
      "cell_type": "code",
      "source": [
        "# Lendo a quantidade de linhas do df3\n",
        "len(df3.axes[0])"
      ],
      "metadata": {
        "colab": {
          "base_uri": "https://localhost:8080/"
        },
        "id": "eWIufJGLs_aZ",
        "outputId": "c0370cdf-5c47-4bc1-bc17-e3fbc044d00d"
      },
      "execution_count": null,
      "outputs": [
        {
          "output_type": "execute_result",
          "data": {
            "text/plain": [
              "15659"
            ]
          },
          "metadata": {},
          "execution_count": 48
        }
      ]
    },
    {
      "cell_type": "code",
      "source": [
        "# Dividindo o df1 em 4 subdfs\n",
        "subdf1_1 = df1.iloc[:38035]\n",
        "subdf1_2 = df1.iloc[38035:76070]\n",
        "subdf1_3 = df1.iloc[76070:114105]\n",
        "subdf1_4 = df1.iloc[114105:]"
      ],
      "metadata": {
        "id": "_SnYc4ZNtEUY"
      },
      "execution_count": null,
      "outputs": []
    },
    {
      "cell_type": "code",
      "source": [
        "# Dividindo o df2 em 3 subdfs\n",
        "subdf2_1 = df2.iloc[:29867]\n",
        "subdf2_2 = df2.iloc[29867:59734]\n",
        "subdf2_3 = df2.iloc[59734:]"
      ],
      "metadata": {
        "id": "eT3QKO66xMoJ"
      },
      "execution_count": null,
      "outputs": []
    },
    {
      "cell_type": "code",
      "source": [
        "# Transformando os dfs em dicionários\n",
        "subdf1_1_dict = subdf1_1.to_dict('records')\n",
        "subdf1_2_dict = subdf1_2.to_dict('records')\n",
        "subdf1_3_dict = subdf1_3.to_dict('records')\n",
        "subdf1_4_dict = subdf1_4.to_dict('records')\n",
        "subdf2_1_dict = subdf2_1.to_dict('records')\n",
        "subdf2_2_dict = subdf2_2.to_dict('records')\n",
        "subdf2_3_dict = subdf2_3.to_dict('records')\n",
        "df3_dict = df3.to_dict('records')"
      ],
      "metadata": {
        "id": "7EYK9hFnolO9"
      },
      "execution_count": null,
      "outputs": []
    },
    {
      "cell_type": "code",
      "source": [
        "# Enviando os dfs para a coleção arquivos_originais no MongoDB\n",
        "collection.insert_many(subdf1_1_dict)\n",
        "collection.insert_many(subdf1_2_dict)\n",
        "collection.insert_many(subdf1_3_dict)\n",
        "collection.insert_many(subdf1_4_dict)\n",
        "collection.insert_many(subdf2_1_dict)\n",
        "collection.insert_many(subdf2_2_dict)\n",
        "collection.insert_many(subdf2_3_dict)\n",
        "collection.insert_many(df3_dict)"
      ],
      "metadata": {
        "colab": {
          "base_uri": "https://localhost:8080/"
        },
        "id": "kNgv2J-CutBl",
        "outputId": "4706d4a6-ad2f-49b3-9604-35c5d72fa475"
      },
      "execution_count": null,
      "outputs": [
        {
          "output_type": "execute_result",
          "data": {
            "text/plain": [
              "<pymongo.results.InsertManyResult at 0x7f967138cd60>"
            ]
          },
          "metadata": {},
          "execution_count": 78
        }
      ]
    },
    {
      "cell_type": "code",
      "source": [
        "# Verificando a quantidade de documentos no MongoDB\n",
        "doc_count = collection.count_documents({})\n",
        "print(doc_count)"
      ],
      "metadata": {
        "colab": {
          "base_uri": "https://localhost:8080/"
        },
        "id": "TyxRgCqq0DMg",
        "outputId": "787cfb57-7d75-40cf-a564-a9bce829d7b1"
      },
      "execution_count": null,
      "outputs": [
        {
          "output_type": "stream",
          "name": "stdout",
          "text": [
            "257401\n"
          ]
        }
      ]
    },
    {
      "cell_type": "markdown",
      "source": [
        "Foi verificado que o total de documentos no mongoDB coincide com a quantidade total de linhas dos 3 dfs importados."
      ],
      "metadata": {
        "id": "Jr55NVyt0X7m"
      }
    }
  ]
}